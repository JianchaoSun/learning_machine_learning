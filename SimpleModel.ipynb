{
  "nbformat": 4,
  "nbformat_minor": 0,
  "metadata": {
    "colab": {
      "name": "SimpleModel.ipynb",
      "version": "0.3.2",
      "provenance": [],
      "include_colab_link": true
    },
    "kernelspec": {
      "name": "python3",
      "display_name": "Python 3"
    }
  },
  "cells": [
    {
      "cell_type": "markdown",
      "metadata": {
        "id": "view-in-github",
        "colab_type": "text"
      },
      "source": [
        "<a href=\"https://colab.research.google.com/github/JianchaoSun/learning_machine_learning/blob/master/SimpleModel.ipynb\" target=\"_parent\"><img src=\"https://colab.research.google.com/assets/colab-badge.svg\" alt=\"Open In Colab\"/></a>"
      ]
    },
    {
      "cell_type": "code",
      "metadata": {
        "id": "_7o4mS4pGnqC",
        "colab_type": "code",
        "colab": {
          "base_uri": "https://localhost:8080/",
          "height": 51
        },
        "outputId": "4a126ffd-d708-4908-fbd6-1c58ccebfed0"
      },
      "source": [
        "from __future__ import absolute_import, division, print_function\n",
        "!pip install -q tf-nightly-2.0-preview\n",
        "%load_ext tensorboard\n",
        "import tensorflow as tf\n",
        "#import matplot as plt\n",
        "\n",
        "fashion_mnist = tf.keras.datasets.fashion_mnist\n",
        "(train_images, train_labels), (test_images, test_labels) = fashion_mnist.load_data()\n",
        "\n",
        "#reshape all image from 2d to 1d\n",
        "train_images = train_images.reshape((60000,28*28))\n",
        "train_images = train_images.astype('float32')/255\n",
        "test_images = test_images.reshape((10000, 28*28))\n",
        "test_images = test_images.astype('float')/255\n",
        "\n",
        "train_labels = tf.keras.utils.to_categorical(train_labels)\n",
        "test_labels = tf.keras.utils.to_categorical(test_labels)"
      ],
      "execution_count": 2,
      "outputs": [
        {
          "output_type": "stream",
          "text": [
            "The tensorboard extension is already loaded. To reload it, use:\n",
            "  %reload_ext tensorboard\n"
          ],
          "name": "stdout"
        }
      ]
    },
    {
      "cell_type": "code",
      "metadata": {
        "id": "ekqpkykbGu0a",
        "colab_type": "code",
        "colab": {
          "base_uri": "https://localhost:8080/",
          "height": 870
        },
        "outputId": "e0c7c2f8-b623-4fe7-cc53-28ed62dc4665"
      },
      "source": [
        "from datetime import datetime\n",
        "from tensorflow.python import keras\n",
        "import numpy as np\n",
        "from time import time\n",
        "import tensorflow as tf\n",
        "logdir=\"logs/SimpleLog/\" + datetime.now().strftime(\"%Y%m%d-%H%M%S\")\n",
        "tensorboard = tf.keras.callbacks.TensorBoard(log_dir=logdir)\n",
        "\n",
        "network = tf.keras.models.Sequential()\n",
        "#build 3 layer network\n",
        "network.add(tf.keras.layers.Dense(256,activation = 'relu', input_shape = (28*28,)))\n",
        "network.add(tf.keras.layers.Dense(512,activation = 'relu'))\n",
        "network.add(tf.keras.layers.Dense(10,activation = 'softmax'))\n",
        "network.summary()\n",
        "\n",
        "checkpoint = tf.keras.callbacks.ModelCheckpoint('Users\\jianchaosun⁩\\⁨Downloads⁩\\savepoint\\b1.h5', monitor='val_acc', verbose=1, save_best_only=True)\n",
        "network.compile(loss='categorical_crossentropy', optimizer='adam',metrics = ['accuracy'])\n",
        "# This builds the model for the first time:\n",
        "history = network.fit(train_images, train_labels, batch_size = 64, epochs = 10, validation_data = (test_images, test_labels),callbacks=[checkpoint,tensorboard])\n"
      ],
      "execution_count": 3,
      "outputs": [
        {
          "output_type": "stream",
          "text": [
            "WARNING: Logging before flag parsing goes to stderr.\n",
            "W0617 01:50:36.432028 140052472412032 deprecation.py:323] From /usr/local/lib/python3.6/dist-packages/tensorflow_core/python/ops/math_grad.py:1251: add_dispatch_support.<locals>.wrapper (from tensorflow.python.ops.array_ops) is deprecated and will be removed in a future version.\n",
            "Instructions for updating:\n",
            "Use tf.where in 2.0, which has the same broadcast rule as np.where\n"
          ],
          "name": "stderr"
        },
        {
          "output_type": "stream",
          "text": [
            "Model: \"sequential\"\n",
            "_________________________________________________________________\n",
            "Layer (type)                 Output Shape              Param #   \n",
            "=================================================================\n",
            "dense (Dense)                (None, 256)               200960    \n",
            "_________________________________________________________________\n",
            "dense_1 (Dense)              (None, 512)               131584    \n",
            "_________________________________________________________________\n",
            "dense_2 (Dense)              (None, 10)                5130      \n",
            "=================================================================\n",
            "Total params: 337,674\n",
            "Trainable params: 337,674\n",
            "Non-trainable params: 0\n",
            "_________________________________________________________________\n",
            "Train on 60000 samples, validate on 10000 samples\n",
            "Epoch 1/10\n",
            "59520/60000 [============================>.] - ETA: 0s - loss: 0.4718 - accuracy: 0.8297"
          ],
          "name": "stdout"
        },
        {
          "output_type": "stream",
          "text": [
            "W0617 01:50:43.928652 140052472412032 callbacks.py:991] Can save best model only with val_acc available, skipping.\n"
          ],
          "name": "stderr"
        },
        {
          "output_type": "stream",
          "text": [
            "60000/60000 [==============================] - 7s 115us/sample - loss: 0.4711 - accuracy: 0.8300 - val_loss: 0.4003 - val_accuracy: 0.8566\n",
            "Epoch 2/10\n",
            "59584/60000 [============================>.] - ETA: 0s - loss: 0.3505 - accuracy: 0.8713"
          ],
          "name": "stdout"
        },
        {
          "output_type": "stream",
          "text": [
            "W0617 01:50:50.365489 140052472412032 callbacks.py:991] Can save best model only with val_acc available, skipping.\n"
          ],
          "name": "stderr"
        },
        {
          "output_type": "stream",
          "text": [
            "60000/60000 [==============================] - 6s 107us/sample - loss: 0.3506 - accuracy: 0.8712 - val_loss: 0.4150 - val_accuracy: 0.8504\n",
            "Epoch 3/10\n",
            "59584/60000 [============================>.] - ETA: 0s - loss: 0.3180 - accuracy: 0.8829"
          ],
          "name": "stdout"
        },
        {
          "output_type": "stream",
          "text": [
            "W0617 01:50:57.089739 140052472412032 callbacks.py:991] Can save best model only with val_acc available, skipping.\n"
          ],
          "name": "stderr"
        },
        {
          "output_type": "stream",
          "text": [
            "60000/60000 [==============================] - 7s 112us/sample - loss: 0.3177 - accuracy: 0.8830 - val_loss: 0.3558 - val_accuracy: 0.8729\n",
            "Epoch 4/10\n",
            "59584/60000 [============================>.] - ETA: 0s - loss: 0.2958 - accuracy: 0.8911"
          ],
          "name": "stdout"
        },
        {
          "output_type": "stream",
          "text": [
            "W0617 01:51:03.799705 140052472412032 callbacks.py:991] Can save best model only with val_acc available, skipping.\n"
          ],
          "name": "stderr"
        },
        {
          "output_type": "stream",
          "text": [
            "60000/60000 [==============================] - 7s 112us/sample - loss: 0.2955 - accuracy: 0.8912 - val_loss: 0.3711 - val_accuracy: 0.8679\n",
            "Epoch 5/10\n",
            "59520/60000 [============================>.] - ETA: 0s - loss: 0.2773 - accuracy: 0.8963"
          ],
          "name": "stdout"
        },
        {
          "output_type": "stream",
          "text": [
            "W0617 01:51:10.708965 140052472412032 callbacks.py:991] Can save best model only with val_acc available, skipping.\n"
          ],
          "name": "stderr"
        },
        {
          "output_type": "stream",
          "text": [
            "60000/60000 [==============================] - 7s 115us/sample - loss: 0.2771 - accuracy: 0.8963 - val_loss: 0.3236 - val_accuracy: 0.8831\n",
            "Epoch 6/10\n",
            "59648/60000 [============================>.] - ETA: 0s - loss: 0.2625 - accuracy: 0.9015"
          ],
          "name": "stdout"
        },
        {
          "output_type": "stream",
          "text": [
            "W0617 01:51:17.416327 140052472412032 callbacks.py:991] Can save best model only with val_acc available, skipping.\n"
          ],
          "name": "stderr"
        },
        {
          "output_type": "stream",
          "text": [
            "60000/60000 [==============================] - 7s 112us/sample - loss: 0.2624 - accuracy: 0.9014 - val_loss: 0.3428 - val_accuracy: 0.8809\n",
            "Epoch 7/10\n",
            "59840/60000 [============================>.] - ETA: 0s - loss: 0.2489 - accuracy: 0.9051"
          ],
          "name": "stdout"
        },
        {
          "output_type": "stream",
          "text": [
            "W0617 01:51:24.065572 140052472412032 callbacks.py:991] Can save best model only with val_acc available, skipping.\n"
          ],
          "name": "stderr"
        },
        {
          "output_type": "stream",
          "text": [
            "60000/60000 [==============================] - 7s 111us/sample - loss: 0.2486 - accuracy: 0.9052 - val_loss: 0.3347 - val_accuracy: 0.8817\n",
            "Epoch 8/10\n",
            "59712/60000 [============================>.] - ETA: 0s - loss: 0.2391 - accuracy: 0.9097"
          ],
          "name": "stdout"
        },
        {
          "output_type": "stream",
          "text": [
            "W0617 01:51:30.636496 140052472412032 callbacks.py:991] Can save best model only with val_acc available, skipping.\n"
          ],
          "name": "stderr"
        },
        {
          "output_type": "stream",
          "text": [
            "60000/60000 [==============================] - 7s 109us/sample - loss: 0.2391 - accuracy: 0.9096 - val_loss: 0.3688 - val_accuracy: 0.8745\n",
            "Epoch 9/10\n",
            "59712/60000 [============================>.] - ETA: 0s - loss: 0.2269 - accuracy: 0.9132"
          ],
          "name": "stdout"
        },
        {
          "output_type": "stream",
          "text": [
            "W0617 01:51:37.400383 140052472412032 callbacks.py:991] Can save best model only with val_acc available, skipping.\n"
          ],
          "name": "stderr"
        },
        {
          "output_type": "stream",
          "text": [
            "60000/60000 [==============================] - 7s 113us/sample - loss: 0.2267 - accuracy: 0.9132 - val_loss: 0.3403 - val_accuracy: 0.8844\n",
            "Epoch 10/10\n",
            "59776/60000 [============================>.] - ETA: 0s - loss: 0.2160 - accuracy: 0.9180"
          ],
          "name": "stdout"
        },
        {
          "output_type": "stream",
          "text": [
            "W0617 01:51:44.046465 140052472412032 callbacks.py:991] Can save best model only with val_acc available, skipping.\n"
          ],
          "name": "stderr"
        },
        {
          "output_type": "stream",
          "text": [
            "\b\b\b\b\b\b\b\b\b\b\b\b\b\b\b\b\b\b\b\b\b\b\b\b\b\b\b\b\b\b\b\b\b\b\b\b\b\b\b\b\b\b\b\b\b\b\b\b\b\b\b\b\b\b\b\b\b\b\b\b\b\b\b\b\b\b\b\b\b\b\b\b\b\b\b\b\b\b\b\b\b\b\b\b\b\b\b\b\r60000/60000 [==============================] - 7s 111us/sample - loss: 0.2159 - accuracy: 0.9180 - val_loss: 0.3506 - val_accuracy: 0.8859\n"
          ],
          "name": "stdout"
        }
      ]
    },
    {
      "cell_type": "code",
      "metadata": {
        "id": "UAahtI1iICZf",
        "colab_type": "code",
        "colab": {}
      },
      "source": [
        "%tensorboard --logdir logs/SimpleLog"
      ],
      "execution_count": 0,
      "outputs": []
    }
  ]
}