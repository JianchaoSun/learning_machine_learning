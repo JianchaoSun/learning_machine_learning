{
  "nbformat": 4,
  "nbformat_minor": 0,
  "metadata": {
    "colab": {
      "name": "SimpleModelwithoutConsideringOverfitting.ipynb",
      "version": "0.3.2",
      "provenance": [],
      "include_colab_link": true
    },
    "kernelspec": {
      "name": "python3",
      "display_name": "Python 3"
    }
  },
  "cells": [
    {
      "cell_type": "markdown",
      "metadata": {
        "id": "view-in-github",
        "colab_type": "text"
      },
      "source": [
        "<a href=\"https://colab.research.google.com/github/JianchaoSun/learning_machine_learning/blob/master/SimpleModelwithoutConsideringOverfitting.ipynb\" target=\"_parent\"><img src=\"https://colab.research.google.com/assets/colab-badge.svg\" alt=\"Open In Colab\"/></a>"
      ]
    },
    {
      "cell_type": "code",
      "metadata": {
        "id": "OoQHqacboVx9",
        "colab_type": "code",
        "colab": {}
      },
      "source": [
        "import tensorflow as tf\n",
        "#import matplot as plt\n",
        "fashion_mnist = tf.keras.datasets.fashion_mnist\n",
        "(train_images, train_labels), (test_images, test_labels) = fashion_mnist.load_data()\n",
        "\n",
        "#test_images.shape\n",
        "#plt.figure()\n",
        "#plt.imshow(test_images[0])"
      ],
      "execution_count": 0,
      "outputs": []
    },
    {
      "cell_type": "code",
      "metadata": {
        "id": "Uyz8XFYOognA",
        "colab_type": "code",
        "colab": {}
      },
      "source": [
        "\n",
        "train_images = train_images.reshape((60000,28*28))\n",
        "train_images = train_images.astype('float32')/255\n",
        "test_images = test_images.reshape((10000, 28*28))\n",
        "test_images = test_images.astype('float')/255\n",
        "\n",
        "train_labels = tf.keras.utils.to_categorical(train_labels)\n",
        "test_labels = tf.keras.utils.to_categorical(test_labels)\n",
        "\n"
      ],
      "execution_count": 0,
      "outputs": []
    },
    {
      "cell_type": "code",
      "metadata": {
        "id": "5PmzI7Atrzr8",
        "colab_type": "code",
        "outputId": "7b18e1a6-c686-4b18-ec26-7e4257f3fe89",
        "colab": {
          "base_uri": "https://localhost:8080/",
          "height": 255
        }
      },
      "source": [
        "network = tf.keras.models.Sequential()\n",
        "network.add(tf.keras.layers.Dense(256,activation = 'relu', input_shape = (28*28,)))\n",
        "network.add(tf.keras.layers.Dense(512,activation = 'relu'))\n",
        "network.add(tf.keras.layers.Dense(10,activation = 'softmax'))\n",
        "network.summary()"
      ],
      "execution_count": 28,
      "outputs": [
        {
          "output_type": "stream",
          "text": [
            "Model: \"sequential_17\"\n",
            "_________________________________________________________________\n",
            "Layer (type)                 Output Shape              Param #   \n",
            "=================================================================\n",
            "dense_51 (Dense)             (None, 256)               200960    \n",
            "_________________________________________________________________\n",
            "dense_52 (Dense)             (None, 512)               131584    \n",
            "_________________________________________________________________\n",
            "dense_53 (Dense)             (None, 10)                5130      \n",
            "=================================================================\n",
            "Total params: 337,674\n",
            "Trainable params: 337,674\n",
            "Non-trainable params: 0\n",
            "_________________________________________________________________\n"
          ],
          "name": "stdout"
        }
      ]
    },
    {
      "cell_type": "code",
      "metadata": {
        "id": "QWs0wfiBtix-",
        "colab_type": "code",
        "outputId": "8a814b11-4c60-4d29-bfe5-4357c7ade266",
        "colab": {
          "base_uri": "https://localhost:8080/",
          "height": 442
        }
      },
      "source": [
        "#add model check point to save best performance, and tensorboard\n",
        "checkpoint = tf.keras.callbacks.ModelCheckpoint('Users\\jianchaosun⁩\\⁨Downloads⁩\\savepoint\\b1.h5', monitor='val_acc', verbose=1, save_best_only=True)\n",
        "tensorboard = tf.keras.callbacks.TensorBoard(log_dir='logs2/{}'.format(time()),write_graph=True, write_grads=True, write_images=True)\n",
        "network.compile(loss='categorical_crossentropy', optimizer='adam',metrics = ['accuracy'])\n",
        "# This builds the model for the first time:\n",
        "history = network.fit(train_images, train_labels, batch_size = 64, epochs = 6, validation_data = (test_images, test_labels),callbacks=[checkpoint,tensorboard])\n"
      ],
      "execution_count": 29,
      "outputs": [
        {
          "output_type": "stream",
          "text": [
            "Train on 60000 samples, validate on 10000 samples\n",
            "Epoch 1/6\n",
            "59968/60000 [============================>.] - ETA: 0s - loss: 0.4752 - acc: 0.8284\n",
            "Epoch 00001: val_acc improved from -inf to 0.84440, saving model to Users\\jianchaosun⁩\\⁨Downloads⁩\\savepoint\b1.h5\n",
            "60000/60000 [==============================] - 10s 164us/sample - loss: 0.4752 - acc: 0.8284 - val_loss: 0.4212 - val_acc: 0.8444\n",
            "Epoch 2/6\n",
            "59904/60000 [============================>.] - ETA: 0s - loss: 0.3566 - acc: 0.8694\n",
            "Epoch 00002: val_acc improved from 0.84440 to 0.86500, saving model to Users\\jianchaosun⁩\\⁨Downloads⁩\\savepoint\b1.h5\n",
            "60000/60000 [==============================] - 7s 121us/sample - loss: 0.3566 - acc: 0.8694 - val_loss: 0.3688 - val_acc: 0.8650\n",
            "Epoch 3/6\n",
            "59648/60000 [============================>.] - ETA: 0s - loss: 0.3166 - acc: 0.8827\n",
            "Epoch 00003: val_acc improved from 0.86500 to 0.86570, saving model to Users\\jianchaosun⁩\\⁨Downloads⁩\\savepoint\b1.h5\n",
            "60000/60000 [==============================] - 7s 122us/sample - loss: 0.3166 - acc: 0.8828 - val_loss: 0.3644 - val_acc: 0.8657\n",
            "Epoch 4/6\n",
            "59648/60000 [============================>.] - ETA: 0s - loss: 0.2943 - acc: 0.8901\n",
            "Epoch 00004: val_acc improved from 0.86570 to 0.87960, saving model to Users\\jianchaosun⁩\\⁨Downloads⁩\\savepoint\b1.h5\n",
            "60000/60000 [==============================] - 8s 127us/sample - loss: 0.2942 - acc: 0.8902 - val_loss: 0.3395 - val_acc: 0.8796\n",
            "Epoch 5/6\n",
            "59712/60000 [============================>.] - ETA: 0s - loss: 0.2764 - acc: 0.8965\n",
            "Epoch 00005: val_acc improved from 0.87960 to 0.88210, saving model to Users\\jianchaosun⁩\\⁨Downloads⁩\\savepoint\b1.h5\n",
            "60000/60000 [==============================] - 8s 131us/sample - loss: 0.2762 - acc: 0.8965 - val_loss: 0.3262 - val_acc: 0.8821\n",
            "Epoch 6/6\n",
            "59840/60000 [============================>.] - ETA: 0s - loss: 0.2607 - acc: 0.9009\n",
            "Epoch 00006: val_acc did not improve from 0.88210\n",
            "60000/60000 [==============================] - 8s 130us/sample - loss: 0.2606 - acc: 0.9009 - val_loss: 0.3380 - val_acc: 0.8815\n"
          ],
          "name": "stdout"
        }
      ]
    },
    {
      "cell_type": "code",
      "metadata": {
        "id": "bcJnjaE7XEFb",
        "colab_type": "code",
        "outputId": "e62b82c3-3657-4b67-e0b7-d61d2e960744",
        "colab": {
          "base_uri": "https://localhost:8080/",
          "height": 119
        }
      },
      "source": [
        "scores = network.evaluate(test_images, test_labels)\n",
        "print(\"\\n%s: %.2f%%\" % (network.metrics_names[1], scores[1]*100))\n",
        "network.predict(test_images)[0]"
      ],
      "execution_count": 30,
      "outputs": [
        {
          "output_type": "stream",
          "text": [
            "10000/10000 [==============================] - 1s 100us/sample - loss: 0.3380 - acc: 0.8815\n",
            "\n",
            "acc: 88.15%\n"
          ],
          "name": "stdout"
        },
        {
          "output_type": "execute_result",
          "data": {
            "text/plain": [
              "array([4.4826771e-07, 1.1741120e-05, 6.6538786e-07, 8.0508482e-07,\n",
              "       3.9109605e-07, 7.6593176e-02, 2.5114805e-06, 1.8622941e-01,\n",
              "       4.0693185e-06, 7.3715681e-01], dtype=float32)"
            ]
          },
          "metadata": {
            "tags": []
          },
          "execution_count": 30
        }
      ]
    },
    {
      "cell_type": "code",
      "metadata": {
        "id": "zZIi-ZItT1ZY",
        "colab_type": "code",
        "outputId": "3dbeef5a-5608-4382-e795-146294b4088d",
        "colab": {
          "base_uri": "https://localhost:8080/",
          "height": 573
        }
      },
      "source": [
        "import matplotlib.pyplot as plt\n",
        "#plot graph for comparsion between tain and test accuract\n",
        "plt.plot(history.history['acc'])\n",
        "plt.plot(history.history['val_acc'])\n",
        "plt.title('model accuracy')\n",
        "plt.ylabel('accuracy')\n",
        "plt.xlabel('epoch')\n",
        "plt.legend(['train', 'test'], loc='upper left')\n",
        "plt.show()\n",
        "# summarize history for loss\n",
        "plt.plot(history.history['loss'])\n",
        "plt.plot(history.history['val_loss'])\n",
        "plt.title('model loss')\n",
        "plt.ylabel('loss')\n",
        "plt.xlabel('epoch')\n",
        "plt.legend(['train', 'test'], loc='upper left')\n",
        "plt.show()"
      ],
      "execution_count": 32,
      "outputs": [
        {
          "output_type": "display_data",
          "data": {
            "image/png": "[encoded data removed]",
            "text/plain": [
              "<Figure size 432x288 with 1 Axes>"
            ]
          },
          "metadata": {
            "tags": []
          }
        },
        {
          "output_type": "display_data",
          "data": {
            "image/png": "[encoded data removed]",
            "text/plain": [
              "<Figure size 432x288 with 1 Axes>"
            ]
          },
          "metadata": {
            "tags": []
          }
        }
      ]
    },
    {
      "cell_type": "code",
      "metadata": {
        "id": "Qpk6UrL02DeC",
        "colab_type": "code",
        "colab": {
          "base_uri": "https://localhost:8080/",
          "height": 238
        },
        "outputId": "19f85435-8154-48b6-9d0e-c1fde88fa936"
      },
      "source": [
        "!wget https://bin.equinox.io/c/4VmDzA7iaHb/ngrok-stable-linux-amd64.zip\n",
        "!unzip ngrok-stable-linux-amd64.zip\n"
      ],
      "execution_count": 1,
      "outputs": [
        {
          "output_type": "stream",
          "text": [
            "--2019-06-16 15:44:23--  https://bin.equinox.io/c/4VmDzA7iaHb/ngrok-stable-linux-amd64.zip\n",
            "Resolving bin.equinox.io (bin.equinox.io)... 52.22.236.254, 3.214.163.243, 52.4.75.11, ...\n",
            "Connecting to bin.equinox.io (bin.equinox.io)|52.22.236.254|:443... connected.\n",
            "HTTP request sent, awaiting response... 200 OK\n",
            "Length: 16648024 (16M) [application/octet-stream]\n",
            "Saving to: ‘ngrok-stable-linux-amd64.zip’\n",
            "\n",
            "ngrok-stable-linux- 100%[===================>]  15.88M  18.7MB/s    in 0.8s    \n",
            "\n",
            "2019-06-16 15:44:24 (18.7 MB/s) - ‘ngrok-stable-linux-amd64.zip’ saved [16648024/16648024]\n",
            "\n",
            "Archive:  ngrok-stable-linux-amd64.zip\n",
            "  inflating: ngrok                   \n"
          ],
          "name": "stdout"
        }
      ]
    },
    {
      "cell_type": "code",
      "metadata": {
        "id": "Z1JdcGA93CNK",
        "colab_type": "code",
        "colab": {}
      },
      "source": [
        "LOG_DIR = './log'\n",
        "get_ipython().system_raw(\n",
        "    'tensorboard --logdir {} --host 0.0.0.0 --port 6006 &'\n",
        "    .format(LOG_DIR)\n",
        ")\n"
      ],
      "execution_count": 0,
      "outputs": []
    },
    {
      "cell_type": "code",
      "metadata": {
        "id": "JyYFWus93IVT",
        "colab_type": "code",
        "colab": {}
      },
      "source": [
        "get_ipython().system_raw('./ngrok http 6006 &')"
      ],
      "execution_count": 0,
      "outputs": []
    },
    {
      "cell_type": "code",
      "metadata": {
        "id": "h7iw1cHI3MVc",
        "colab_type": "code",
        "colab": {
          "base_uri": "https://localhost:8080/",
          "height": 34
        },
        "outputId": "99d97fbd-40b6-4006-c87d-0751c1e509e1"
      },
      "source": [
        "! curl -s http://localhost:4040/api/tunnels | python3 -c \\\n",
        "    \"import sys, json; print(json.load(sys.stdin)['tunnels'][0]['public_url'])\""
      ],
      "execution_count": 4,
      "outputs": [
        {
          "output_type": "stream",
          "text": [
            "http://c5dbcea3.ngrok.io\n"
          ],
          "name": "stdout"
        }
      ]
    }
  ]
}