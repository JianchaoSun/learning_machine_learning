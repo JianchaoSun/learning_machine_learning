{
  "nbformat": 4,
  "nbformat_minor": 0,
  "metadata": {
    "colab": {
      "name": "Assignment 1.ipynb",
      "version": "0.3.2",
      "provenance": [],
      "collapsed_sections": [],
      "include_colab_link": true
    },
    "language_info": {
      "codemirror_mode": {
        "name": "ipython",
        "version": 3
      },
      "file_extension": ".py",
      "mimetype": "text/x-python",
      "name": "python",
      "nbconvert_exporter": "python",
      "pygments_lexer": "ipython3",
      "version": "3.5.3"
    },
    "kernelspec": {
      "display_name": "Python 3",
      "language": "python",
      "name": "python3"
    }
  },
  "cells": [
    {
      "cell_type": "markdown",
      "metadata": {
        "id": "view-in-github",
        "colab_type": "text"
      },
      "source": [
        "<a href=\"https://colab.research.google.com/github/JianchaoSun/learning_machine_learning/blob/master/Assignment_1.ipynb\" target=\"_parent\"><img src=\"https://colab.research.google.com/assets/colab-badge.svg\" alt=\"Open In Colab\"/></a>"
      ]
    },
    {
      "cell_type": "markdown",
      "metadata": {
        "deletable": true,
        "editable": true,
        "id": "BhqTPmwpVUJV",
        "colab_type": "text"
      },
      "source": [
        "<h2>Assignment 1 - Part 1: Linear Regression on Boston Housing Data</h2>\n",
        "\n",
        "You're asked to do the following tasks to predict boston house price:\n",
        "<lu>\n",
        "<li>Use scikit-learn</li>\n",
        "<li>Implement analytical solution (normal equation) to obtain weights</li>\n",
        "<li>Implement numerical solution (gradient descent) to obtain weights</li>\n",
        "</lu>\n",
        "    Note: the accuracy of your implementations should be close to that of a linear model from scikit-learn\n",
        "\n",
        "In addition, you need to show the resulting intercept and coefficents, calculate errors on training dataset and testing dataset, and plot a figure to show your predictions and real prices on the testing dataset. "
      ]
    },
    {
      "cell_type": "code",
      "metadata": {
        "deletable": true,
        "editable": true,
        "id": "hnUHKwyHVUJW",
        "colab_type": "code",
        "colab": {}
      },
      "source": [
        "# The modules we're going to use\n",
        "from __future__ import print_function\n",
        "from sklearn import preprocessing\n",
        "from sklearn.model_selection import train_test_split\n",
        "from sklearn import datasets, linear_model\n",
        "from scipy import linalg\n",
        "import numpy as np\n",
        "import matplotlib.pyplot as plt\n",
        "\n",
        "# When you execute a code to plot with a simple SHIFT-ENTER, the plot will be shown directly under the code cell\n",
        "%matplotlib inline"
      ],
      "execution_count": 0,
      "outputs": []
    },
    {
      "cell_type": "code",
      "metadata": {
        "deletable": true,
        "editable": true,
        "id": "c3ayiAkAVUJa",
        "colab_type": "code",
        "colab": {}
      },
      "source": [
        "# Load data from scikit-learn, which returns (data, target)\n",
        "# note: if you call \"boston = load_boston()\", it returns a dictionary-like object\n",
        "from sklearn.datasets import load_boston\n",
        "from sklearn.model_selection import train_test_split\n",
        "import numpy as np\n",
        "data, target = load_boston(True)\n",
        "\n",
        "# Split the data into two parts: training data and testing data\n",
        "train_data,test_data,train_target,test_target = train_test_split(data,(target[:, np.newaxis]), test_size=0.2, random_state=42)\n",
        "scaler = preprocessing.StandardScaler().fit(train_data)\n",
        "train_data = scaler.transform(train_data)\n",
        "test_data = scaler.transform(test_data)"
      ],
      "execution_count": 0,
      "outputs": []
    },
    {
      "cell_type": "markdown",
      "metadata": {
        "deletable": true,
        "editable": true,
        "id": "Vc6ARMacVUJc",
        "colab_type": "text"
      },
      "source": [
        "<h4>Use scikit-learn library in the following cell</h4>"
      ]
    },
    {
      "cell_type": "code",
      "metadata": {
        "deletable": true,
        "editable": true,
        "id": "5isBiiKcVUJd",
        "colab_type": "code",
        "outputId": "8f9c82f0-3068-4920-a11e-21f09c411ca3",
        "colab": {
          "base_uri": "https://localhost:8080/",
          "height": 448
        }
      },
      "source": [
        "# Task 1-1: use linear regression in sklearn\n",
        "from sklearn.linear_model import LinearRegression\n",
        "import matplotlib.pyplot as plt\n",
        "import sklearn\n",
        "lreg = LinearRegression()\n",
        "lreg.fit(train_data, train_target)\n",
        "\n",
        "# Task 1-2: show intercept and coefficents\n",
        "print(\"coefficient: \")\n",
        "print(lreg.coef_)\n",
        "print(\"Interception: \")\n",
        "print(lreg.intercept_ )\n",
        "\n",
        "def getError(t,p):\n",
        "  i = 0\n",
        "  x = 0\n",
        "  while i < len(p):\n",
        "    x+= (t[i] - p[i])*(t[i] - p[i])\n",
        "    i+=1\n",
        "  r = 0.5/len(p)\n",
        "  error = r*x\n",
        "  return error\n",
        "\n",
        "# Task 1-3: show errors on training dataset and testing dataset\n",
        "Y_pred = lreg.predict(test_data)\n",
        "error = sklearn.metrics.mean_squared_error(test_target, Y_pred)\n",
        "print(\"error using sklearn function: \" + str(error))\n",
        "er = getError(test_target,result)\n",
        "print(\"error using equation: \" + str(er))\n",
        "# Task 1-4: show plot a figure to show your predictions and real prices on the testing dataset\n",
        "plt.scatter(test_target, Y_pred)\n",
        "plt.xlabel(\"Real Prices\")\n",
        "plt.ylabel(\"Predicted prices\")\n",
        "plt.title(\"Prices vs Predicted prices\")\n"
      ],
      "execution_count": 150,
      "outputs": [
        {
          "output_type": "stream",
          "text": [
            "coefficient: \n",
            "[[-1.00213533  0.69626862  0.27806485  0.7187384  -2.0223194   3.14523956\n",
            "  -0.17604788 -3.0819076   2.25140666 -1.76701378 -2.03775151  1.12956831\n",
            "  -3.61165842]]\n",
            "Interception: \n",
            "[22.79653465]\n",
            "error using sklearn function: 24.29111947497352\n",
            "error using equation: [12.14555974]\n"
          ],
          "name": "stdout"
        },
        {
          "output_type": "execute_result",
          "data": {
            "text/plain": [
              "Text(0.5, 1.0, 'Prices vs Predicted prices')"
            ]
          },
          "metadata": {
            "tags": []
          },
          "execution_count": 150
        },
        {
          "output_type": "display_data",
          "data": {
            "image/png": "[encoded data removed]",
            "text/plain": [
              "<Figure size 432x288 with 1 Axes>"
            ]
          },
          "metadata": {
            "tags": []
          }
        }
      ]
    },
    {
      "cell_type": "markdown",
      "metadata": {
        "deletable": true,
        "editable": true,
        "id": "ALTdSaWSVUJf",
        "colab_type": "text"
      },
      "source": [
        "<h4>Use analytical solution (normal equation) to perform linear regression in the following cell</h4>"
      ]
    },
    {
      "cell_type": "code",
      "metadata": {
        "deletable": true,
        "editable": true,
        "id": "3Swr9PXvVUJf",
        "colab_type": "code",
        "outputId": "3f9e87d8-f617-49fa-8d94-2800a3e6ddc8",
        "colab": {
          "base_uri": "https://localhost:8080/",
          "height": 618
        }
      },
      "source": [
        "# Task 2-1: Implement a function solving normal equation \n",
        "# Inputs: Training data and  training label\n",
        "# Output: Weights\n",
        "import numpy as np\n",
        "\n",
        "def myNormalEqualFun(X,y):\n",
        "  a = np.matmul(np.transpose(X),X)\n",
        "  b = np.linalg.inv(a)\n",
        "  c = np.matmul(b, np.transpose(X))\n",
        "  d = np.matmul(c,y)\n",
        "  return d\n",
        "    \n",
        "# Task 2-2: Implement a function performing prediction\n",
        "# Inputs: Testing data and weights\n",
        "# Output: Predictions\n",
        "def myPredictFun(X,w):\n",
        "  co = np.split(w, [1, 14])[1]\n",
        "  a = w.item(0)\n",
        "  i = 0\n",
        "  for x in co:\n",
        "   # print(\"a\"+ str(a))\n",
        "    a += X.item(i)*x\n",
        "    i+=1\n",
        "  return a\n",
        "def getError(t,p):\n",
        "  i = 0\n",
        "  x = 0\n",
        "  while i < len(p):\n",
        "    x+= (t[i] - p[i])*(t[i] - p[i])\n",
        "    i+=1\n",
        "  r = 0.5/len(p)\n",
        "  error = r*x\n",
        "  return error\n",
        "\n",
        "# Here we insert a column of 1s into training_data and test_data (to be consistent with our lecture slides)\n",
        "train_data_intercept = np.insert(train_data, 0, 1, axis=1)\n",
        "test_data_intercept = np.insert(test_data, 0, 1, axis=1)\n",
        "\n",
        "# Here we call myNormalEqual to train the model and get weights\n",
        "w = myNormalEqualFun(train_data_intercept,train_target)\n",
        "\n",
        "# Task 2-3: show intercept and coefficents\n",
        "#c = myPredictFun(test_data_intercept,w)\n",
        "#c\n",
        "print(\"interception: \")\n",
        "print(w.item(0))\n",
        "co = np.split(w, [1, 14])\n",
        "print(\"cofficient: \")\n",
        "print(co[1])\n",
        "\n",
        "# Task 2-4: show errors on training dataset and testing dataset\n",
        "size = test_data.shape[0]\n",
        "result = [0 for i in range(size)]\n",
        "i =0\n",
        "for t in test_data:\n",
        "  result[i] = myPredictFun(t,w)\n",
        "  i+=1\n",
        "error = sklearn.metrics.mean_squared_error(test_target, result) \n",
        "print(\"error using sklearn function: \" + str(error))\n",
        "er = getError(test_target,result)\n",
        "print(\"error using equation: \" + str(er))\n",
        "\n",
        "#from sklearn import preprocessing\n",
        "#import numpy as np\n",
        "#train_data = preprocessing.scale(train_data)\n",
        "\n",
        "# Task 2-5: show plot a figure to show your predictions and real prices on the testing dataset\n",
        "plt.scatter(test_target, result)\n",
        "plt.xlabel(\"Real Prices\")\n",
        "plt.ylabel(\"Predicted prices\")\n",
        "plt.title(\"Prices vs Predicted prices\")"
      ],
      "execution_count": 149,
      "outputs": [
        {
          "output_type": "stream",
          "text": [
            "interception: \n",
            "22.796534653465343\n",
            "cofficient: \n",
            "[[-1.00213533]\n",
            " [ 0.69626862]\n",
            " [ 0.27806485]\n",
            " [ 0.7187384 ]\n",
            " [-2.0223194 ]\n",
            " [ 3.14523956]\n",
            " [-0.17604788]\n",
            " [-3.0819076 ]\n",
            " [ 2.25140666]\n",
            " [-1.76701378]\n",
            " [-2.03775151]\n",
            " [ 1.12956831]\n",
            " [-3.61165842]]\n",
            "error using sklearn function: 24.29111947497353\n",
            "error using equation: [12.14555974]\n"
          ],
          "name": "stdout"
        },
        {
          "output_type": "execute_result",
          "data": {
            "text/plain": [
              "Text(0.5, 1.0, 'Prices vs Predicted prices')"
            ]
          },
          "metadata": {
            "tags": []
          },
          "execution_count": 149
        },
        {
          "output_type": "display_data",
          "data": {
            "image/png": "[encoded data removed]",
            "text/plain": [
              "<Figure size 432x288 with 1 Axes>"
            ]
          },
          "metadata": {
            "tags": []
          }
        }
      ]
    },
    {
      "cell_type": "markdown",
      "metadata": {
        "deletable": true,
        "editable": true,
        "id": "bmk0A0GpVUJh",
        "colab_type": "text"
      },
      "source": [
        "<h4>Use numerical solution (gradient descent) to perform linear regression in the following cell</h4>"
      ]
    },
    {
      "cell_type": "code",
      "metadata": {
        "deletable": true,
        "editable": true,
        "id": "85Yp56WOVUJi",
        "colab_type": "code",
        "colab": {
          "base_uri": "https://localhost:8080/",
          "height": 618
        },
        "outputId": "59479ffd-902b-4482-ad16-53f60afa5e39"
      },
      "source": [
        "# Feature scaling\n",
        "scaler = preprocessing.StandardScaler().fit(train_data)\n",
        "train_data = scaler.transform(train_data)\n",
        "test_data = scaler.transform(test_data)\n",
        "\n",
        "\n",
        "# Task 3-1: Implement a function performing gradient descent\n",
        "# Inputs: Training data, training label, leaerning rate, number of iterations\n",
        "# Output: Weights\n",
        "def myGradientDescentFun(X,y,learning_rate,numItrs):\n",
        "  n = y.shape[0]\n",
        "  w = np.arange(0,X.shape[1]).reshape((X.shape[1],1))\n",
        "  #w = np.arange(y.shape[1], dtype=int)\n",
        "  np.full_like(w, 10)\n",
        "  i=0\n",
        "  #w = np.full((y.shape[1],1 ), 10) \n",
        "  while i< numItrs:\n",
        "    o = (1/n)*X.T\n",
        "    a = np.subtract(y,np.matmul(X,w))\n",
        "    inside = np.matmul(o,a)\n",
        "    w = np.add(w, learning_rate*inside)\n",
        "    i+=1 \n",
        "  return w\n",
        "\n",
        "# Task 3-2: Implement a function performing prediction\n",
        "# Inputs: Testing data and weights\n",
        "# Output: Predictions\n",
        "def myPredictFun(X,w):\n",
        "  co = np.split(w, [1, 14])[1]\n",
        "  a = w.item(0)\n",
        "  i = 0\n",
        "  for x in co:\n",
        "   # print(\"a\"+ str(a))\n",
        "    a += X.item(i)*x\n",
        "    i+=1\n",
        "  return a\n",
        "def getError(t,p):\n",
        "  i = 0\n",
        "  x = 0\n",
        "  while i < len(p):\n",
        "    x+= (t[i] - p[i])*(t[i] - p[i])\n",
        "    i+=1\n",
        "  r = 0.5/len(p)\n",
        "  error = r*x\n",
        "  return error\n",
        "\n",
        "# Here we insert a column of 1s into training_data and test_data (to be consistent with our lecture slides)\n",
        "train_data_intercept = np.insert(train_data, 0, 1, axis=1)\n",
        "test_data_intercept = np.insert(test_data, 0, 1, axis=1)\n",
        "\n",
        "# Here we call myGradientDescentFun to train the model and get weights\n",
        "# Note: you need to figure out good learning rate value and the number of iterations\n",
        "w = myGradientDescentFun(train_data_intercept,train_target,0.32,100)\n",
        "# Task 3-3: show intercept and coefficents\n",
        "print(\"interception: \")\n",
        "print(w.item(0))\n",
        "co = np.split(w, [1, 14])\n",
        "print(\"cofficient: \")\n",
        "print(co[1])\n",
        "\n",
        "# Task 3-4: show errors on training dataset and testing dataset\n",
        "size = test_data.shape[0]\n",
        "result = [0 for i in range(size)]\n",
        "i =0\n",
        "for t in test_data:\n",
        "  result[i] = myPredictFun(t,w)\n",
        "  i+=1\n",
        "error = sklearn.metrics.mean_squared_error(test_target, result) \n",
        "print(\"error using sklearn function: \" + str(error))\n",
        "er = getError(test_target,result)\n",
        "print(\"error using equation: \" + str(er))\n",
        "\n",
        "# Task 3-5: show plot a figure to show your predictions and real prices on the testing dataset\n",
        "\n",
        "plt.scatter(test_target, result)\n",
        "plt.xlabel(\"Real Prices\")\n",
        "plt.ylabel(\"Predicted prices\")\n",
        "plt.title(\"Prices vs Predicted prices\")"
      ],
      "execution_count": 148,
      "outputs": [
        {
          "output_type": "stream",
          "text": [
            "interception: \n",
            "22.796534653465343\n",
            "cofficient: \n",
            "[[-0.96695857]\n",
            " [ 0.61689417]\n",
            " [ 0.15137427]\n",
            " [ 0.73866756]\n",
            " [-1.98126346]\n",
            " [ 3.1809628 ]\n",
            " [-0.18429428]\n",
            " [-3.04049915]\n",
            " [ 1.85534882]\n",
            " [-1.32730175]\n",
            " [-2.02134907]\n",
            " [ 1.12669268]\n",
            " [-3.59048965]]\n",
            "error: 24.54576789168373\n",
            "error2: [12.27288395]\n"
          ],
          "name": "stdout"
        },
        {
          "output_type": "execute_result",
          "data": {
            "text/plain": [
              "Text(0.5, 1.0, 'Prices vs Predicted prices')"
            ]
          },
          "metadata": {
            "tags": []
          },
          "execution_count": 148
        },
        {
          "output_type": "display_data",
          "data": {
            "image/png": "[encoded data removed]",
            "text/plain": [
              "<Figure size 432x288 with 1 Axes>"
            ]
          },
          "metadata": {
            "tags": []
          }
        }
      ]
    }
  ]
}